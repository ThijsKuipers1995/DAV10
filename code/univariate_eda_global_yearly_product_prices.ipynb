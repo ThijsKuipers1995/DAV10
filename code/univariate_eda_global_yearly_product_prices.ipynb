{
 "cells": [
  {
   "cell_type": "code",
   "execution_count": 4,
   "metadata": {},
   "outputs": [],
   "source": [
    "from bokeh.models import ColumnDataSource, HoverTool\n",
    "from bokeh.plotting import figure\n",
    "from bokeh.io import show, output_file\n",
    "import pandas as pd\n",
    "import math\n",
    "from decimal import Decimal\n",
    "\n",
    "df = pd.read_csv('../data/global_food_prices.csv')"
   ]
  },
  {
   "cell_type": "code",
   "execution_count": 5,
   "metadata": {},
   "outputs": [],
   "source": [
    "year = 2015\n",
    "product = 'Bread'\n",
    "df = df[['country', 'product', 'year', 'unit', 'avg_price', 'currency', 'price_in_dollars']]\n",
    "unit = sorted(list(set(df['unit'])))[0]\n",
    "bin_count = 10\n",
    "his_range = 3.4\n",
    "\n",
    "\n",
    "output_file('../graphs/histomgram_global_yearly_product_prices.html')\n",
    "\n",
    "df = df[(df['product']==product) & (df['year']==year)]\n",
    "countries = sorted(list(set(df['country'])))\n",
    "avg_prices = []\n",
    "for country in countries:\n",
    "    subset = df[df['country']==country]\n",
    "    unit = list(set(subset['unit']))[0]\n",
    "    prices = [price_to_kg(float(price), unit) for price in list(set(subset['price_in_dollars'])) if price != 'UNKNOWN']\n",
    "    avg_prices.append(round(sum(prices) / len(prices), 2)) if len(prices) else avg_prices.append(0)\n",
    "bins = [0 for i in range(bin_count)]\n",
    "his_range_axis = [round((i + 1) * (Decimal(his_range) / Decimal(bin_count)), 2) for i in range(bin_count)]\n",
    "bin_info = [[] for i in range(bin_count)]\n",
    "for country, price in zip(countries, avg_prices):\n",
    "    subset = df[df['country']==country]\n",
    "    currency = list(set(subset['currency']))[0]\n",
    "    unit = list(set(subset['unit']))[0]\n",
    "    avg_price = list(set(subset['avg_price']))[0]\n",
    "    if avg_price != 'UNKNOWN':\n",
    "        avg_price = round(price_to_kg(float(avg_price), unit), 2)\n",
    "    b = int(price // (his_range / bin_count))\n",
    "    bins[b] += 1\n",
    "    bin_info[b].append(\"{} ({} {})\".format(country, avg_price, currency))\n",
    "    \n",
    "his_df = pd.DataFrame()\n",
    "his_df['counts'] = bins\n",
    "his_df['left'] = [i - Decimal('0.34') for i in his_range_axis]\n",
    "his_df['right'] = his_range_axis\n",
    "his_df['info'] = bin_info\n",
    "src = ColumnDataSource(his_df)\n",
    "\n",
    "p = figure(plot_height = 600, plot_width = 600,\\\n",
    "           title = 'Average {} (per KG) price distrubution in {}.'.format(product, year),\\\n",
    "           x_axis_label = 'Price (US Dollars)',\\\n",
    "           y_axis_label = 'Number of countries',\\\n",
    "           toolbar_location = None,\\\n",
    "           tools=\"\")\n",
    "p.xgrid.grid_line_color = None\n",
    "p.quad(source = src, bottom=0, top='counts',\\\n",
    "       left='left', right='right',\\\n",
    "       line_color='black',\\\n",
    "       fill_alpha = 0.75,\\\n",
    "       hover_fill_alpha = 1.0,\\\n",
    "       hover_fill_color = 'navy')\n",
    "h = HoverTool(tooltips = [('Countries + local price', '@info')])\n",
    "p.add_tools(h)\n",
    "show(p)\n",
    "\n",
    "\n",
    "\n"
   ]
  },
  {
   "cell_type": "code",
   "execution_count": 1,
   "metadata": {},
   "outputs": [],
   "source": [
    "def price_to_kg(price, unit):\n",
    "    to_kg = {'KG': 1, 'Unit': 1, '500 G': 2, '400 G': 2.5, '150 G': 6.6666667, 'Pound': 2.20462262}\n",
    "    return price * to_kg[unit]"
   ]
  },
  {
   "cell_type": "code",
   "execution_count": 2,
   "metadata": {},
   "outputs": [
    {
     "ename": "NameError",
     "evalue": "name 'avg_prices' is not defined",
     "output_type": "error",
     "traceback": [
      "\u001b[0;31m---------------------------------------------------------------------------\u001b[0m",
      "\u001b[0;31mNameError\u001b[0m                                 Traceback (most recent call last)",
      "\u001b[0;32m<ipython-input-2-1528409e3ef2>\u001b[0m in \u001b[0;36m<module>\u001b[0;34m()\u001b[0m\n\u001b[1;32m     15\u001b[0m     \u001b[0mprint\u001b[0m\u001b[0;34m(\u001b[0m\u001b[0;34m\"sd       : {}\"\u001b[0m\u001b[0;34m.\u001b[0m\u001b[0mformat\u001b[0m\u001b[0;34m(\u001b[0m\u001b[0mround\u001b[0m\u001b[0;34m(\u001b[0m\u001b[0mstandard_deviation\u001b[0m\u001b[0;34m,\u001b[0m \u001b[0;36m2\u001b[0m\u001b[0;34m)\u001b[0m\u001b[0;34m)\u001b[0m\u001b[0;34m)\u001b[0m\u001b[0;34m\u001b[0m\u001b[0m\n\u001b[1;32m     16\u001b[0m \u001b[0;34m\u001b[0m\u001b[0m\n\u001b[0;32m---> 17\u001b[0;31m \u001b[0munivariate_non_graphical\u001b[0m\u001b[0;34m(\u001b[0m\u001b[0mavg_prices\u001b[0m\u001b[0;34m)\u001b[0m\u001b[0;34m\u001b[0m\u001b[0m\n\u001b[0m",
      "\u001b[0;31mNameError\u001b[0m: name 'avg_prices' is not defined"
     ]
    }
   ],
   "source": [
    "def univariate_non_graphical(data):\n",
    "    data.sort()\n",
    "    mean = sum(data) / len(data)\n",
    "    median = data[int(len(data) // 2) - 1]\n",
    "    dif = 0\n",
    "    for x in data:\n",
    "        xdif = x - mean\n",
    "        dif += xdif * xdif\n",
    "    variance = dif / (len(data) - 1)    \n",
    "    standard_deviation = math.sqrt(variance)\n",
    "    print(\"Univariate non-graphical data for {} average {} prices (in US Dollars)\".format(year, product))\n",
    "    print(\"mean     : {}\".format(round(mean, 2)))\n",
    "    print(\"median   : {}\".format(round(median, 2)))\n",
    "    print(\"variance : {}\".format(round(variance, 2)))\n",
    "    print(\"sd       : {}\".format(round(standard_deviation, 2)))\n",
    "    \n",
    "univariate_non_graphical(avg_prices)"
   ]
  },
  {
   "cell_type": "code",
   "execution_count": 3,
   "metadata": {},
   "outputs": [],
   "source": [
    "def interpolate(values):\n",
    "    for i in range(len(values)):\n",
    "        if values[i] == None:\n",
    "            ii = i\n",
    "            x = None\n",
    "            while x == None:\n",
    "                ii -= 1\n",
    "                if ii < 0: x = values[i]\n",
    "                x = values[ii]\n",
    "            ii = i\n",
    "            y = None\n",
    "            while y == None:\n",
    "                ii -= 1\n",
    "                if ii >= len(values): y = values[i]\n",
    "                y = values[ii]\n",
    "            values[i] = (x + y) / 2\n",
    "    return values"
   ]
  },
  {
   "cell_type": "code",
   "execution_count": null,
   "metadata": {},
   "outputs": [],
   "source": []
  }
 ],
 "metadata": {
  "kernelspec": {
   "display_name": "Python 3",
   "language": "python",
   "name": "python3"
  },
  "language_info": {
   "codemirror_mode": {
    "name": "ipython",
    "version": 3
   },
   "file_extension": ".py",
   "mimetype": "text/x-python",
   "name": "python",
   "nbconvert_exporter": "python",
   "pygments_lexer": "ipython3",
   "version": "3.6.3"
  }
 },
 "nbformat": 4,
 "nbformat_minor": 2
}
