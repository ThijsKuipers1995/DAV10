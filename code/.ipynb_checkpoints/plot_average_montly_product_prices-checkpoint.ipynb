{
 "cells": [
  {
   "cell_type": "code",
   "execution_count": null,
   "metadata": {},
   "outputs": [],
   "source": [
    "from bokeh.models import ColumnDataSource, HoverTool\n",
    "from bokeh.plotting import figure\n",
    "from bokeh.io import show, output_file\n",
    "import pandas as pd\n",
    "import math\n",
    "\n",
    "df = pd.read_csv(\"global_food_prices.csv\")"
   ]
  },
  {
   "cell_type": "code",
   "execution_count": null,
   "metadata": {},
   "outputs": [],
   "source": [
    "# get average monthly prices of given product for every country in given year and month\n",
    "def avg_monthly_product_price_countries(product, year, month, df):\n",
    "    output_file(\"graphs/avg_montly_product_price.html\")\n",
    "    months_dict = {1: \"january\", 2: \"february\", 3: \"march\", 4: \"april\", 5: \"may\", \\\n",
    "              6: \"june\", 7: \"july\", 8: \"august\", 9: \"september\", 10: \"october\", 11: \"november\", 12: \"december\"}\n",
    "    avg_prices = []\n",
    "    df = df[(df['product']==product) & (df['year']==year) & (df['month']==month)]\n",
    "    countries = sorted(list(set(df['country'])))\n",
    "    unit = list(df['unit'])[0]\n",
    "    for country in countries: \n",
    "        df_country = df[df['country']==country]\n",
    "        prices = list(df_country['price_in_dollars'])\n",
    "        avg_price = sum([float(price) if price != 'UNKNOWN' else 0 for price in prices])\n",
    "        avg_prices.append(avg_price)\n",
    "    u_bound = _get_upperbound(max(avg_prices))\n",
    "    width = 10 * len(\"\".join(countries))\n",
    "    width = width if width > 750 else 750\n",
    "    source = ColumnDataSource(data=dict(countries = countries, prices = avg_prices))\n",
    "    title = \"Average \" + product.lower() + \" (in \" + unit + \") price in US Dollars per country for \" + months_dict[month] + \" \" + str(year) + \".\"\n",
    "    p = figure(x_range = countries, y_range = (0, u_bound), plot_height = 250, plot_width = width, title = title, \\\n",
    "               toolbar_location = None, tools=\"\")\n",
    "    p.vbar(x = 'countries', top = 'prices', width = 0.9, source=source)\n",
    "    p.xgrid.grid_line_color = None\n",
    "    p.xaxis.axis_label = \"No bar means product is listed but no price data is available.\"\n",
    "    p.yaxis.axis_label = \"Average price in US Dollars (USD)\"\n",
    "    show(p)\n",
    "    \n",
    "def _get_upperbound(number):\n",
    "    s = len(str(abs(round(number)))) - 1\n",
    "    number = number / pow(10, s)\n",
    "    return pow(10, s) * math.ceil(number) \n",
    "    \n",
    "avg_monthly_product_price_countries('Bread', 2017, 2, df)\n"
   ]
  },
  {
   "cell_type": "code",
   "execution_count": null,
   "metadata": {},
   "outputs": [],
   "source": []
  }
 ],
 "metadata": {
  "kernelspec": {
   "display_name": "Python 3",
   "language": "python",
   "name": "python3"
  },
  "language_info": {
   "codemirror_mode": {
    "name": "ipython",
    "version": 3
   },
   "file_extension": ".py",
   "mimetype": "text/x-python",
   "name": "python",
   "nbconvert_exporter": "python",
   "pygments_lexer": "ipython3",
   "version": "3.6.3"
  }
 },
 "nbformat": 4,
 "nbformat_minor": 2
}
