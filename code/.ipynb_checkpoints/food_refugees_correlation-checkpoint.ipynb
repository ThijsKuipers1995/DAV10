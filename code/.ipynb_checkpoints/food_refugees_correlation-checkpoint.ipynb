{
 "cells": [
  {
   "cell_type": "code",
   "execution_count": 89,
   "metadata": {},
   "outputs": [],
   "source": [
    "from bokeh.models import ColumnDataSource, HoverTool, LinearAxis, Range1d, FactorRange\n",
    "from bokeh.plotting import figure\n",
    "from bokeh.io import show, output_file\n",
    "import pandas as pd\n",
    "import math\n",
    "from decimal import Decimal\n",
    "import numpy\n",
    "\n",
    "df = pd.read_csv('../data/global_food_prices.csv')\n",
    "df_ref = pd.read_csv('../data/refugee_data.csv')\n",
    "df_ex = pd.read_csv('../data/exchange_rates_to_us_dollar.csv')"
   ]
  },
  {
   "cell_type": "code",
   "execution_count": 88,
   "metadata": {},
   "outputs": [
    {
     "ename": "IndexError",
     "evalue": "list index out of range",
     "output_type": "error",
     "traceback": [
      "\u001b[0;31m---------------------------------------------------------------------------\u001b[0m",
      "\u001b[0;31mIndexError\u001b[0m                                Traceback (most recent call last)",
      "\u001b[0;32m<ipython-input-88-003641862d9b>\u001b[0m in \u001b[0;36m<module>\u001b[0;34m()\u001b[0m\n\u001b[1;32m     21\u001b[0m \u001b[0mp\u001b[0m \u001b[0;34m=\u001b[0m \u001b[0mfigure\u001b[0m\u001b[0;34m(\u001b[0m\u001b[0;34m)\u001b[0m\u001b[0;34m\u001b[0m\u001b[0m\n\u001b[1;32m     22\u001b[0m \u001b[0;34m\u001b[0m\u001b[0m\n\u001b[0;32m---> 23\u001b[0;31m \u001b[0mp\u001b[0m\u001b[0;34m.\u001b[0m\u001b[0mline\u001b[0m\u001b[0;34m(\u001b[0m\u001b[0mlist\u001b[0m\u001b[0;34m(\u001b[0m\u001b[0mtups\u001b[0m\u001b[0;34m[\u001b[0m\u001b[0;36m0\u001b[0m\u001b[0;34m]\u001b[0m\u001b[0;34m)\u001b[0m\u001b[0;34m,\u001b[0m \u001b[0mlist\u001b[0m\u001b[0;34m(\u001b[0m\u001b[0mtups\u001b[0m\u001b[0;34m[\u001b[0m\u001b[0;36m1\u001b[0m\u001b[0;34m]\u001b[0m\u001b[0;34m)\u001b[0m\u001b[0;34m)\u001b[0m\u001b[0;34m\u001b[0m\u001b[0m\n\u001b[0m\u001b[1;32m     24\u001b[0m \u001b[0;34m\u001b[0m\u001b[0m\n\u001b[1;32m     25\u001b[0m \u001b[0mshow\u001b[0m\u001b[0;34m(\u001b[0m\u001b[0mp\u001b[0m\u001b[0;34m)\u001b[0m\u001b[0;34m\u001b[0m\u001b[0m\n",
      "\u001b[0;31mIndexError\u001b[0m: list index out of range"
     ]
    }
   ],
   "source": [
    "df_ref = df_ref[df_ref['country_of_asylum']=='Afghanistan']\n",
    "df = df[(df['country']=='Afghanistan') & (df['product']=='Bread')]\n",
    "years = sorted(list(set(df['year'])))\n",
    "\n",
    "\n",
    "df_ref = df_ref[df_ref['year'].isin(years)]\n",
    "\n",
    "refugee_count = []\n",
    "yearly_prices = []\n",
    "for year in years:\n",
    "    subset_ref = df_ref[df_ref['year']==year]\n",
    "    refugee_count.append(sum(list(set(subset_ref['amount_of_refugees']))))\n",
    "    \n",
    "    subset_prc = df[df['year']==year]\n",
    "    prices = [float(x) if x != 'UNKNOWN' else 0 for x in list(set(subset_prc['price_in_dollars']))]\n",
    "    yearly_prices.append(sum(prices) / len(prices))\n",
    "\n",
    "tups = zip(refugee_count, yearly_prices)\n",
    "tups = sorted(tups, key=lambda tups: tups[0])\n",
    "tups = list(zip(*tups))\n",
    "p = figure()\n",
    "\n",
    "p.line(list(tups[0]), list(tups[1]))\n",
    "\n",
    "show(p)\n",
    "\n",
    "#df[df['year']==2017]"
   ]
  },
  {
   "cell_type": "code",
   "execution_count": 99,
   "metadata": {},
   "outputs": [
    {
     "name": "stdout",
     "output_type": "stream",
     "text": [
      "[2014.0, 2015.0, 2016.0]\n",
      "0.3669140428704803\n"
     ]
    }
   ],
   "source": [
    "df2 = df[(df['country']=='Afghanistan') & (df['product']=='Bread')]\n",
    "years = sorted(list(set(df2['year'])))\n",
    "ref2 = df_ref[(df_ref['country_of_asylum']=='Afghanistan') & (df_ref['year'].isin(years))]\n",
    "years = sorted(list(set(ref2['year'])))\n",
    "\n",
    "output_file('../graphs/relation_refugees_bread_prices_afghanistan.html')\n",
    "print(years)\n",
    "prices = []\n",
    "refs = []\n",
    "for year in years:\n",
    "    s = df2[df2['year']==year]\n",
    "    p = [float(x) if x != 'UNKNOWN' else 0 for x in list(s['price_in_dollars'])]\n",
    "    prices.append(sum(p) / len(p))\n",
    "    s = ref2[ref2['year']==year]\n",
    "    r = sum(list(s['amount_of_refugees']))\n",
    "    refs.append(r)\n",
    "\n",
    "p = figure()\n",
    "p.extra_y_ranges = {'refs': Range1d(start=0, end = 300000)}\n",
    "p.add_layout(LinearAxis(y_range_name='refs', axis_label='Amount of refugees'), 'right')\n",
    "p.y_range = Range1d(0.5, 2)\n",
    "p.line(years, prices, legend='Bread price')\n",
    "p.line(years, refs, y_range_name='refs', line_color='orange', legend='Amount of refugees')\n",
    "p.xaxis.axis_label=\"Years\"\n",
    "p.yaxis.axis_label=\"Price in US Dollars\"\n",
    "p.legend.location='top_right'\n",
    "p.legend.click_policy='hide'\n",
    "p.title.text = \"Amount of refugees (right) entering {} compared to average {} price\".format(\"Afghanistan\", \"Bread\")\n",
    "show(p)\n",
    "\n",
    "print(correlation(prices,refs))"
   ]
  },
  {
   "cell_type": "code",
   "execution_count": 4,
   "metadata": {},
   "outputs": [],
   "source": [
    "def price_to_kg(price, unit):\n",
    "    to_kg = {'KG': 1, 'Unit': 1, '500 G': 2, '400 G': 2.5, '150 G': 6.6666667, 'Pound': 2.20462262}\n",
    "    return price * to_kg[unit]"
   ]
  },
  {
   "cell_type": "code",
   "execution_count": 100,
   "metadata": {},
   "outputs": [
    {
     "name": "stdout",
     "output_type": "stream",
     "text": [
      "0.6914256290021721\n"
     ]
    }
   ],
   "source": [
    "dfs = df[(df['country']=='Afghanistan') & (df['product']=='Bread')]\n",
    "currency = list(df['currency'])[0]\n",
    "years = sorted(list(set(dfs['year'])))\n",
    "exs = df_ex[(df_ex['currency']==currency) & (df_ex['year'].isin(years))]\n",
    "\n",
    "output_file('../graphs/corrolation_food_price_currency_value.html')\n",
    "\n",
    "rate = []\n",
    "price = []\n",
    "for year in years:\n",
    "    dfss = dfs[dfs['year']==year]\n",
    "    months = sorted(list(set(dfss['month'])))\n",
    "    for month in months:\n",
    "        rate.append(list(exs[(exs['year']==year) & (exs['month']==month)]['value'])[0])\n",
    "        p = list(dfss[dfss['month']==month]['avg_price'])[0]\n",
    "        p = p if p != 'UNKNOWN' else None\n",
    "        price.append(p)\n",
    "\n",
    "price = [float(x) if x != None else None for x in price]\n",
    "rate = [float(x) if x != None else None for x in rate]\n",
    "\n",
    "s = zip(rate, price)\n",
    "s = sorted(s, key=lambda s: s[0])\n",
    "s = list(zip(*s))\n",
    "\n",
    "xv = interpolate(list(s[0]))\n",
    "yv = interpolate(list(s[1]))\n",
    "\n",
    "print(correlation(xv,yv))\n",
    "\n",
    "q = figure()\n",
    "q.circle(xv, yv, size=5)\n",
    "q.y_range = Range1d(40, 48)\n",
    "q.title.text = \"Relation Bread price with AFD Value in USD\"\n",
    "q.xaxis.axis_label=\"Currenct exchange: 1 AFD to USD\"\n",
    "q.yaxis.axis_label=\"Bread Price\"\n",
    "q.x_range = Range1d(min(rate), max(rate))\n",
    "show(q)"
   ]
  },
  {
   "cell_type": "code",
   "execution_count": 44,
   "metadata": {},
   "outputs": [],
   "source": [
    "def interpolate(values):\n",
    "    for i in range(len(values)):\n",
    "        if values[i] == None:\n",
    "            ii = i\n",
    "            x = None\n",
    "            while x == None:\n",
    "                ii -= 1\n",
    "                if ii < 0: x = values[i]\n",
    "                x = values[ii]\n",
    "            ii = i\n",
    "            y = None\n",
    "            while y == None:\n",
    "                ii -= 1\n",
    "                if ii >= len(values): y = values[i]\n",
    "                y = values[ii]\n",
    "            values[i] = (x + y) / 2\n",
    "    return values\n",
    "                \n",
    "def max_none(values):\n",
    "    m = values[0]\n",
    "    for value in values:\n",
    "        if value != None and value > m:\n",
    "            m = value\n",
    "    return m"
   ]
  },
  {
   "cell_type": "code",
   "execution_count": 45,
   "metadata": {},
   "outputs": [],
   "source": [
    "def average(x):\n",
    "    return float(sum(x)) / len(x)\n",
    "\n",
    "def correlation(x, y):\n",
    "    n = len(x)\n",
    "    avg_x = average(x)\n",
    "    avg_y = average(y)\n",
    "    dif = 0\n",
    "    xdif2 = 0\n",
    "    ydif2 = 0\n",
    "    for i in range(n):\n",
    "        xdif = x[i] - avg_x\n",
    "        ydif = y[i] - avg_y\n",
    "        dif += xdif * ydif\n",
    "        xdif2 += xdif * xdif\n",
    "        ydif2 += ydif * ydif\n",
    "    return dif / math.sqrt(xdif2 * ydif2)"
   ]
  },
  {
   "cell_type": "code",
   "execution_count": 70,
   "metadata": {},
   "outputs": [],
   "source": [
    "df2 = df[(df['country']=='Afghanistan') & (df['product']=='Bread')]\n",
    "years = sorted(list(set(df2['year'])))\n",
    "\n",
    "y = []\n",
    "p = []\n",
    "for year in years:\n",
    "    s = df2[df2['year']==year]\n",
    "    months = sorted(list(set(s['month'])))\n",
    "    for month in months:\n",
    "        y.append((str(year), str(month)))\n",
    "        p.append(list(s[s['month']==month]['price_in_dollars'])[0])\n",
    "p = [float(x) if x != 'UNKNOWN' else None for x in p]\n",
    "p = interpolate(p)\n",
    "\n",
    "s = figure(width=700, height=400, x_range=FactorRange(*y))\n",
    "\n",
    "s.title.text = \"Average Bread (per KG) price in USD for Afghanistan\"\n",
    "s.xaxis.axis_label=\"Time\"\n",
    "s.yaxis.axis_label=\"Price in USD/KG\"\n",
    "s.line(y, p)\n",
    "\n",
    "show(s)"
   ]
  },
  {
   "cell_type": "code",
   "execution_count": 73,
   "metadata": {},
   "outputs": [
    {
     "name": "stdout",
     "output_type": "stream",
     "text": [
      "mean     : 0.71\n",
      "median   : 0.68\n",
      "variance : 0.003\n",
      "sd       : 0.05\n"
     ]
    }
   ],
   "source": [
    "def univariate_non_graphical(data):\n",
    "    data.sort()\n",
    "    mean = sum(data) / len(data)\n",
    "    median = data[int(len(data) // 2) - 1]\n",
    "    dif = 0\n",
    "    for x in data:\n",
    "        xdif = x - mean\n",
    "        dif += xdif * xdif\n",
    "    variance = dif / (len(data) - 1)    \n",
    "    standard_deviation = math.sqrt(variance)\n",
    "    print(\"mean     : {}\".format(round(mean, 2)))\n",
    "    print(\"median   : {}\".format(round(median, 2)))\n",
    "    print(\"variance : {}\".format(round(variance, 3)))\n",
    "    print(\"sd       : {}\".format(round(standard_deviation, 2)))\n",
    "    \n",
    "univariate_non_graphical(p)"
   ]
  },
  {
   "cell_type": "code",
   "execution_count": null,
   "metadata": {},
   "outputs": [],
   "source": []
  }
 ],
 "metadata": {
  "kernelspec": {
   "display_name": "Python 3",
   "language": "python",
   "name": "python3"
  },
  "language_info": {
   "codemirror_mode": {
    "name": "ipython",
    "version": 3
   },
   "file_extension": ".py",
   "mimetype": "text/x-python",
   "name": "python",
   "nbconvert_exporter": "python",
   "pygments_lexer": "ipython3",
   "version": "3.6.3"
  }
 },
 "nbformat": 4,
 "nbformat_minor": 2
}
