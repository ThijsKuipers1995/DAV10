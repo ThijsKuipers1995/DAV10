{
 "cells": [
  {
   "cell_type": "markdown",
   "metadata": {},
   "source": [
    "# Vraag 2\n",
    "\n",
    "## De vraag\n",
    "Do countries in similar regions, also show similar price differences? And if differences occur, can you find a potential explanation?\n",
    "\n",
    "### Indeling van groepen landen:\n",
    "Midden Oosten: Afghanistan, Iran, Iraq, Yemen, Syria, Lebanon, Pakistan, Palestine\n"
   ]
  },
  {
   "cell_type": "markdown",
   "metadata": {},
   "source": [
    "## Doelen\n",
    "Grafiek per product voor meerdere landen in een regio\n"
   ]
  },
  {
   "cell_type": "code",
   "execution_count": 80,
   "metadata": {},
   "outputs": [],
   "source": [
    "# Importing bokeh and pandas (Although we dont need Pandas just yet)\n",
    "from bokeh.plotting import figure\n",
    "from bokeh.models import ColumnDataSource, HoverTool\n",
    "from bokeh.models import DataRange1d\n",
    "from bokeh.models import FactorRange\n",
    "from bokeh.models import ColumnDataSource, Range1d, LabelSet, Label\n",
    "from bokeh.io import show, output_file\n",
    "from bokeh.models import Span\n",
    "\n",
    "import pandas\n",
    "import numpy as np\n",
    "import matplotlib.pyplot as plt\n",
    "import datetime as dt\n",
    "import math\n",
    "import random\n",
    "\n",
    "df = pandas.read_csv(\"../data/global_food_prices.csv\")\n",
    "df_conflict = pandas.read_csv(\"../data/Conflict_bbc_same_name.csv\")\n"
   ]
  },
  {
   "cell_type": "code",
   "execution_count": 69,
   "metadata": {},
   "outputs": [],
   "source": [
    "\"\"\"Geeft prijzen van 1 product \n",
    "van verschillende landen weer in 1 grafiek.\"\"\"\n",
    "\n",
    "def prices_per_month(product, events, countries, df):\n",
    "    output_file(\"../graphs/region_food_price.html\", title=product)\n",
    "    df = df[df['product']==product]\n",
    "    prices_list = []\n",
    "    dates_list = []\n",
    "    \n",
    "    for country in countries:\n",
    "        df_country = df[(df['country']==country)]\n",
    "        nulpunt = list(df_country['Unnamed: 0'][:1])\n",
    "        factors = []\n",
    "        prices = list(df_country['price_in_dollars'])\n",
    "        prices_list.append(prices)\n",
    "        \n",
    "        for i in range(len(df_country['year'])):\n",
    "            month_per_year = (str((df_country['year'][i + nulpunt[0]])), str((df_country['month'][i + nulpunt[0]])))\n",
    "            factors.append(month_per_year)\n",
    "        dates_list.append(factors)\n",
    "\n",
    "    start = 0\n",
    "    end = 0\n",
    "    color_list = []\n",
    "    for price in prices_list:\n",
    "        \n",
    "        if price:\n",
    "            pricefloat = [float(x) if x != \"UNKNOWN\" else 0 for x in price]\n",
    "            if max(pricefloat) > end:\n",
    "                end = max(pricefloat)\n",
    "    \n",
    "    end = end * 1.03\n",
    "    m = []\n",
    "    for date in dates_list:\n",
    "        if len(date) > len(m):\n",
    "            m = date \n",
    "    begindate = int(m[0][0])\n",
    "    print(begindate)\n",
    "    f = figure(x_range=FactorRange(*m), width=750)\n",
    "    f.y_range=DataRange1d(start=0, end=end)\n",
    "    \n",
    "    for i in range(len(countries)):\n",
    "        prices_list[i] = [float(x) if x != 'UNKNOWN' else x for x in prices_list[i]]\n",
    "        r = lambda: random.randint(0,255)\n",
    "        color = '#%02X%02X%02X' % (r(),r(),r())\n",
    "        f.line(dates_list[i], interpolate(prices_list[i], 'UNKNOWN'), legend=countries[i], line_color = color)\n",
    "    \n",
    "    for event in events:\n",
    "        print(event)       \n",
    "        month = int(event[0])\n",
    "        year = int(event[1])\n",
    "        country = str(event[2])\n",
    "        date = str(year), str(month) \n",
    "        loc = ((year - begindate) * 12) + month\n",
    "        df_event = df_conflict[(df_conflict['Month']==month) & (df_conflict['Year']==year) & (df_conflict['Country']==country)]\n",
    "        events_list = list(df_event['Event'])\n",
    "        if events_list != []:\n",
    "            span = Span(location=loc, dimension='height', line_color='black', line_dash='dashed', line_width=1)\n",
    "            f.add_layout(span)\n",
    "            for event in events_list:\n",
    "                event_text = country + \": \" + event\n",
    "                label = Label(x=loc, y=random.uniform(0, 7.0), text=event_text, render_mode='css',\n",
    "                     border_line_color='black', border_line_alpha=1.0,\n",
    "                     background_fill_color='white', background_fill_alpha=1.0)\n",
    "                f.add_layout(label)\n",
    "\n",
    "\n",
    "    f.legend.click_policy=\"hide\"\n",
    "    show(f)\n",
    "    return True\n",
    "    \n"
   ]
  },
  {
   "cell_type": "code",
   "execution_count": 74,
   "metadata": {},
   "outputs": [
    {
     "name": "stdout",
     "output_type": "stream",
     "text": [
      "2012\n",
      "['7', '2012', 'Lebanon']\n",
      "['10', '2012', 'Lebanon']\n",
      "['3', '2013', 'Lebanon']\n",
      "['7', '2013', 'Lebanon']\n",
      "['10', '2014', 'Lebanon']\n",
      "['1', '2015', 'Lebanon']\n",
      "['9', '2015', 'Lebanon']\n",
      "['3', '2016', 'Lebanon']\n",
      "['3', '2012', 'Iran  (Islamic Republic of)']\n",
      "['5', '2012', 'Iran  (Islamic Republic of)']\n",
      "['8', '2012', 'Iran  (Islamic Republic of)']\n",
      "['7', '2013', 'Iran  (Islamic Republic of)']\n",
      "['2', '2016', 'Iran  (Islamic Republic of)']\n",
      "2011\n",
      "['12', '2012', 'Lebanon']\n",
      "['3', '2012', 'Iran  (Islamic Republic of)']\n",
      "['4', '2013', 'Iran  (Islamic Republic of)']\n",
      "['7', '2013', 'Iran  (Islamic Republic of)']\n",
      "['5', '2016', 'Iran  (Islamic Republic of)']\n",
      "['3', '2012', 'Yemen']\n",
      "['7', '2013', 'Yemen']\n",
      "['4', '2014', 'Yemen']\n",
      "['2', '2015', 'Yemen']\n",
      "['1', '2013', 'Syrian Arab Republic']\n",
      "['1', '2015', 'Syrian Arab Republic']\n",
      "['9', '2013', 'Syrian Arab Republic']\n",
      "['1', '2016', 'Syrian Arab Republic']\n",
      "['9', '2016', 'Syrian Arab Republic']\n",
      "2003\n",
      "['5', '2010', 'Yemen']\n",
      "['8', '2009', 'Yemen']\n",
      "['7', '2011', 'Yemen']\n",
      "['10', '2011', 'Yemen']\n",
      "['4', '2013', 'Yemen']\n",
      "['4', '2014', 'Yemen']\n",
      "['4', '2010', 'Afghanistan']\n",
      "['8', '2011', 'Afghanistan']\n",
      "['5', '2012', 'Afghanistan']\n",
      "['1', '2015', 'Afghanistan']\n",
      "['8', '2013', 'Pakistan']\n",
      "['10', '2014', 'Pakistan']\n",
      "['9', '2015', 'Pakistan']\n",
      "2004\n",
      "['6', '2014', 'Iraq']\n",
      "['5', '2015', 'Iraq']\n",
      "['7', '2016', 'Iraq']\n",
      "['9', '2009', 'Yemen']\n",
      "['4', '2010', 'Yemen']\n",
      "['2', '2011', 'Yemen']\n",
      "['11', '2011', 'Yemen']\n",
      "['2', '2015', 'Yemen']\n",
      "['11', '2015', 'Yemen']\n",
      "['9', '2013', 'Syrian Arab Republic']\n",
      "['2', '2015', 'Syrian Arab Republic']\n",
      "['11', '2015', 'Syrian Arab Republic']\n",
      "['8', '2016', 'Syrian Arab Republic']\n",
      "2011\n",
      "['4', '2012', 'Syrian Arab Republic']\n",
      "['3', '2013', 'Syrian Arab Republic']\n",
      "['9', '2013', 'Syrian Arab Republic']\n",
      "['2', '2015', 'Syrian Arab Republic']\n",
      "['10', '2016', 'Syrian Arab Republic']\n",
      "['6', '2015', 'Iraq']\n",
      "['10', '2015', 'Iraq']\n",
      "['5', '2016', 'Iraq']\n",
      "2013\n",
      "['2', '2015', 'Yemen']\n",
      "['6', '2015', 'Yemen']\n",
      "['8', '2015', 'Yemen']\n",
      "['11', '2015', 'Yemen']\n",
      "['11', '2014', 'Pakistan']\n",
      "['1', '2016', 'Pakistan']\n"
     ]
    },
    {
     "data": {
      "text/plain": [
       "True"
      ]
     },
     "execution_count": 74,
     "metadata": {},
     "output_type": "execute_result"
    }
   ],
   "source": [
    "middle_east = [\"Afghanistan\", \"Iran  (Islamic Republic of)\", \"Iraq\", \"Yemen\", \"Syrian Arab Republic\", \"Lebanon\", \"Pakistan\", \"State of Palestine\"]\n",
    "products = [\"Sugar\", 'Wheat', \"Wheat flour\", \"Rice\", \"Fuel (petrol-gasoline)\"]\n",
    "# for product in set(df['product']):\n",
    "#     print(\"--------------------------\")\n",
    "#     print (product)\n",
    "#     prices_per_month(product, middle_east, df)\n",
    "\n",
    "# Eggs, Sugar, Wheat Flour, \"Fuel (petrol-gasoline)\"\n",
    "\n",
    "# for product in products:\n",
    "#     prices_per_month(product, middle_east, df)\n",
    "\n",
    "# Lijst van lijsten,\n",
    "# [[month, year, country], [month, year , country]]\n",
    "sugar_events = [[\"12\", \"2012\", \"Lebanon\"], [\"3\", \"2012\", \"Iran  (Islamic Republic of)\"], [\"4\", \"2013\", \"Iran  (Islamic Republic of)\"],[\"7\", \"2013\", \"Iran  (Islamic Republic of)\"],[\"5\", \"2016\", \"Iran  (Islamic Republic of)\"],[\"3\", \"2012\", \"Yemen\"],[\"7\", \"2013\", \"Yemen\"],[\"4\", \"2014\", \"Yemen\"],[\"2\", \"2015\", \"Yemen\"],[\"1\", \"2013\", \"Syrian Arab Republic\"],[\"1\", \"2015\", \"Syrian Arab Republic\"],[\"9\", \"2013\", \"Syrian Arab Republic\"],[\"1\", \"2016\", \"Syrian Arab Republic\"],[\"9\", \"2016\", \"Syrian Arab Republic\"]]\n",
    "egg_events = [[\"7\", \"2012\", \"Lebanon\"],[\"10\", \"2012\", \"Lebanon\"],[\"3\", \"2013\", \"Lebanon\"],[\"7\", \"2013\", \"Lebanon\"],[\"10\", \"2014\", \"Lebanon\"],[\"1\", \"2015\", \"Lebanon\"],[\"9\", \"2015\", \"Lebanon\"],[\"3\", \"2016\", \"Lebanon\"],[\"3\", \"2012\", \"Iran  (Islamic Republic of)\"],[\"5\", \"2012\", \"Iran  (Islamic Republic of)\"],[\"8\", \"2012\", \"Iran  (Islamic Republic of)\"],[\"7\", \"2013\", \"Iran  (Islamic Republic of)\"],[\"2\", \"2016\", \"Iran  (Islamic Republic of)\"]]\n",
    "wheat_events =[[\"5\", \"2010\", \"Yemen\"],[\"8\", \"2009\", \"Yemen\"],[\"7\", \"2011\", \"Yemen\"],[\"10\", \"2011\", \"Yemen\"],[\"4\", \"2013\", \"Yemen\"],[\"4\", \"2014\", \"Yemen\"],[\"4\", \"2010\", \"Afghanistan\"],[\"8\", \"2011\", \"Afghanistan\"],[\"5\", \"2012\", \"Afghanistan\"],[\"1\", \"2015\", \"Afghanistan\"], [\"8\", \"2013\", \"Pakistan\"],[\"10\", \"2014\", \"Pakistan\"],[\"9\", \"2015\", \"Pakistan\"]]\n",
    "wheatflour_events = [[\"6\", \"2014\", \"Iraq\"],[\"5\", \"2015\", \"Iraq\"], [\"7\", \"2016\", \"Iraq\"],[\"9\", \"2009\", \"Yemen\"],[\"4\", \"2010\", \"Yemen\"],[\"2\", \"2011\", \"Yemen\"],[\"11\", \"2011\", \"Yemen\"],[\"2\", \"2015\", \"Yemen\"],[\"11\", \"2015\", \"Yemen\"],[\"9\", \"2013\", \"Syrian Arab Republic\"],[\"2\", \"2015\", \"Syrian Arab Republic\"],[\"11\", \"2015\", \"Syrian Arab Republic\"],[\"8\", \"2016\", \"Syrian Arab Republic\"]]\n",
    "rice_events = [[\"4\", \"2012\", \"Syrian Arab Republic\"],[\"3\", \"2013\", \"Syrian Arab Republic\"],[\"9\", \"2013\", \"Syrian Arab Republic\"],[\"2\", \"2015\", \"Syrian Arab Republic\"],[\"10\", \"2016\", \"Syrian Arab Republic\"],[\"6\", \"2015\", \"Iraq\"],[\"10\", \"2015\", \"Iraq\"],[\"5\", \"2016\", \"Iraq\"]]\n",
    "fuel_events = [[\"2\", \"2015\", \"Yemen\"],[\"6\", \"2015\", \"Yemen\"],[\"8\", \"2015\", \"Yemen\"],[\"11\", \"2015\", \"Yemen\"],[\"11\", \"2014\", \"Pakistan\"],[\"1\", \"2016\", \"Pakistan\"]]\n",
    "\n",
    "prices_per_month(\"Eggs\", egg_events, middle_east, df)\n",
    "prices_per_month(\"Sugar\", sugar_events, middle_east, df)\n",
    "prices_per_month(\"Wheat\", wheat_events, middle_east, df)\n",
    "prices_per_month(\"Wheat flour\", wheatflour_events, middle_east, df)\n",
    "prices_per_month(\"Rice\", rice_events, middle_east, df)\n",
    "prices_per_month(\"Fuel (petrol-gasoline)\", fuel_events, middle_east, df)"
   ]
  },
  {
   "cell_type": "code",
   "execution_count": 98,
   "metadata": {
    "scrolled": true
   },
   "outputs": [
    {
     "name": "stderr",
     "output_type": "stream",
     "text": [
      "/usr/local/lib/python3.6/site-packages/bokeh/models/sources.py:110: BokehUserWarning: ColumnDataSource's columns must be of the same length. Current lengths: ('x', 108), ('y', 180)\n",
      "  \"Current lengths: %s\" % \", \".join(sorted(str((k, len(v))) for k, v in data.items())), BokehUserWarning))\n"
     ]
    },
    {
     "data": {
      "text/plain": [
       "True"
      ]
     },
     "execution_count": 98,
     "metadata": {},
     "output_type": "execute_result"
    }
   ],
   "source": [
    "def scatterplotter(product, country1, country2, df):\n",
    "    title = country1 + ' / ' + country2\n",
    "    output_file(\"../graphs/scatter2countries.html\", title=title)\n",
    "    df = df[df['product']==product]\n",
    "    df_country1 = df[df['country']==country1]\n",
    "    df_country2 = df[df['country']==country2]\n",
    "    x = list(df_country1['price_in_dollars'])\n",
    "    end1 = max([float(i) if i != \"UNKNOWN\" else 0 for i in x])\n",
    "            \n",
    "    y = list(df_country2['price_in_dollars'])\n",
    "    end2 = max([float(i) if i != \"UNKNOWN\" else 0 for i in y])\n",
    "    \n",
    "    p = figure(x_range=DataRange1d(start=0, end=end1))\n",
    "    p.y_range=DataRange1d(start=0, end=end2)\n",
    "    p.scatter(x, y, marker=\"circle\")\n",
    "    show(p)\n",
    "    return True\n",
    "\n",
    "scatterplotter(\"Wheat\", \"Yemen\", \"Afghanistan\", df)"
   ]
  },
  {
   "cell_type": "markdown",
   "metadata": {},
   "source": [
    "19-6-2018:\n",
    "Vraag 2 programmeren werkend gekregen\n",
    "\n",
    "20-6-2018:\n",
    "Legenda voor vraag 2, landen ingedeeld"
   ]
  },
  {
   "cell_type": "markdown",
   "metadata": {},
   "source": [
    "## Te doen\n",
    "\n",
    "\n",
    "Interessante producten vinden\n",
    "\n",
    "Koppelen aan events\n",
    "\n",
    "\n",
    "Scatterplots en regressiegrafieken"
   ]
  },
  {
   "cell_type": "code",
   "execution_count": 3,
   "metadata": {},
   "outputs": [],
   "source": [
    "def interpolate(values, unknown=None):\n",
    "    if (len(set(values)) <= 1) or len(values) == 0: return values\n",
    "    #if list(set(values))[0]==unknown or len(values) == 0: return []\n",
    "    for i in range(len(values)):\n",
    "        if values[i] == unknown:\n",
    "            ii = i\n",
    "            x = unknown\n",
    "            while x == unknown:\n",
    "                ii -= 1\n",
    "                if ii < 0: x = values[i]\n",
    "                x = values[ii]\n",
    "            ii = i\n",
    "            y = unknown\n",
    "            while y == unknown:\n",
    "                ii -= 1\n",
    "                if ii >= len(values): y = values[i]\n",
    "                y = values[ii]\n",
    "            values[i] = (x + y) / 2\n",
    "    return values\n",
    "                "
   ]
  },
  {
   "cell_type": "code",
   "execution_count": null,
   "metadata": {},
   "outputs": [],
   "source": []
  }
 ],
 "metadata": {
  "kernelspec": {
   "display_name": "Python 3",
   "language": "python",
   "name": "python3"
  },
  "language_info": {
   "codemirror_mode": {
    "name": "ipython",
    "version": 3
   },
   "file_extension": ".py",
   "mimetype": "text/x-python",
   "name": "python",
   "nbconvert_exporter": "python",
   "pygments_lexer": "ipython3",
   "version": "3.6.3"
  }
 },
 "nbformat": 4,
 "nbformat_minor": 2
}
