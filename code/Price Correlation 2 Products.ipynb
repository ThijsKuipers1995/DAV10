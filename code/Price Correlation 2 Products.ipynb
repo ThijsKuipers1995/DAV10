{
 "cells": [
  {
   "cell_type": "code",
   "execution_count": 1,
   "metadata": {},
   "outputs": [],
   "source": [
    "from bokeh.models import ColumnDataSource, HoverTool\n",
    "from bokeh.models import DataRange1d\n",
    "from bokeh.models import FactorRange\n",
    "from bokeh.plotting import figure\n",
    "from bokeh.io import show, output_file\n",
    "\n",
    "import pandas as pd\n",
    "import math\n",
    "\n",
    "df = pd.read_csv(\"global_food_prices.csv\")"
   ]
  },
  {
   "cell_type": "code",
   "execution_count": 48,
   "metadata": {},
   "outputs": [
    {
     "name": "stdout",
     "output_type": "stream",
     "text": [
      "0.5392849831391425\n"
     ]
    }
   ],
   "source": [
    "def monthly_food_price(product, product2, country, df):\n",
    "    output_file(\"graphs/monthly_food_prices2.html\")\n",
    "    df2 = df[(df['product']==product2) & (df['country']==country)]\n",
    "    df = df[(df['product']==product) & (df['country']==country)]\n",
    "\n",
    "    nulpunt = list(df['Unnamed: 0'][:1])\n",
    "    nulpunt2 = list(df2['Unnamed: 0'][:1])\n",
    "    \n",
    "    lijst = list(df['price_in_dollars'])\n",
    "    lijst2 = []\n",
    "    for value in lijst:\n",
    "        if value != 'UNKNOWN':\n",
    "            lijst2.append(value)\n",
    "            \n",
    "    lijst = list(df2['price_in_dollars'])\n",
    "    for value in lijst:\n",
    "        if value != 'UNKNOWN':\n",
    "            lijst2.append(value)\n",
    "    \n",
    "    starter = float(min(lijst2)) - (float(min(lijst2))/10)  \n",
    "    ender = float(max(lijst2)) + (float(max(lijst2))/10)\n",
    "    \n",
    "    factors = []\n",
    "    factors2 = []\n",
    "          \n",
    "    for i in range(len(df['year'])):\n",
    "        month_per_year = (str((df['year'][i + nulpunt[0]])), str((df['month'][i + nulpunt[0]])))\n",
    "        factors.append(month_per_year)\n",
    "    \n",
    "    for i in range(len(df2['year'])):\n",
    "        month_per_year2 = (str((df2['year'][i + nulpunt2[0]])), str((df2['month'][i + nulpunt2[0]])))\n",
    "        factors2.append(month_per_year2)\n",
    "    \n",
    "    \n",
    "    y=list(df['price_in_dollars'])\n",
    "    y2=list(df2['price_in_dollars'])\n",
    "    y = [float(x) if x != 'UNKNOWN' else x for x in y]\n",
    "    y2 = [float(x) if x != 'UNKNOWN' else x for x in y2]\n",
    "    y = interpolate(y)\n",
    "    y2 = interpolate(y2)\n",
    "    y = [float(x) if float(x) < 100 else float(x)/1000 for x in y]\n",
    "    y2 = [float(x) if float(x) < 100 else float(x)/1000 for x in y2]\n",
    "    \n",
    "    if len(factors) <= len(factors2):\n",
    "        f = figure(x_range=FactorRange(*factors))\n",
    "    else:\n",
    "        f = figure(x_range=FactorRange(*factors2))\n",
    "    \n",
    "    f.y_range=DataRange1d(start=0, end=15)\n",
    "    f.line(x=factors, y=y, color='red', line_width=2)\n",
    "    f.line(x=factors2, y=y2, color='blue', line_width=2)\n",
    "    show(f)\n",
    "    if y => y2:\n",
    "        print(correlation(y2, y[len(y)-len(y2):]))\n",
    "\n",
    "monthly_food_price('Bread', 'Wheat', 'Afghanistan', df)"
   ]
  },
  {
   "cell_type": "code",
   "execution_count": 21,
   "metadata": {},
   "outputs": [],
   "source": [
    "def interpolate(values):\n",
    "    for i in range(len(values)):\n",
    "        if values[i] == 'UNKNOWN':\n",
    "            ii = i\n",
    "            x = 'UNKNOWN'\n",
    "            while x == 'UNKNOWN':\n",
    "                ii -= 1\n",
    "                if ii < 0: x = values[i]\n",
    "                x = values[ii]\n",
    "            ii = i\n",
    "            y = 'UNKNOWN'\n",
    "            while y == 'UNKNOWN':\n",
    "                ii -= 1\n",
    "                if ii >= len(values): y = values[i]\n",
    "                y = values[ii]\n",
    "            values[i] = (x + y) / 2\n",
    "    return values"
   ]
  },
  {
   "cell_type": "code",
   "execution_count": 31,
   "metadata": {},
   "outputs": [],
   "source": [
    "def average(x):\n",
    "    return float(sum(x)) / len(x)\n",
    "\n",
    "def correlation(x, y):\n",
    "    n = len(x)\n",
    "    avg_x = average(x)\n",
    "    avg_y = average(y)\n",
    "    dif = 0\n",
    "    xdif2 = 0\n",
    "    ydif2 = 0\n",
    "    for i in range(n):\n",
    "        xdif = x[i] - avg_x\n",
    "        ydif = y[i] - avg_y\n",
    "        dif += xdif * ydif\n",
    "        xdif2 += xdif * xdif\n",
    "        ydif2 += ydif * ydif\n",
    "    return dif / math.sqrt(xdif2 * ydif2)"
   ]
  },
  {
   "cell_type": "code",
   "execution_count": null,
   "metadata": {},
   "outputs": [],
   "source": []
  }
 ],
 "metadata": {
  "kernelspec": {
   "display_name": "Python 3",
   "language": "python",
   "name": "python3"
  },
  "language_info": {
   "codemirror_mode": {
    "name": "ipython",
    "version": 3
   },
   "file_extension": ".py",
   "mimetype": "text/x-python",
   "name": "python",
   "nbconvert_exporter": "python",
   "pygments_lexer": "ipython3",
   "version": "3.6.3"
  }
 },
 "nbformat": 4,
 "nbformat_minor": 2
}
