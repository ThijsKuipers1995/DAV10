{
 "cells": [
  {
   "cell_type": "code",
   "execution_count": 19,
   "metadata": {},
   "outputs": [],
   "source": [
    "import pandas as pd\n",
    "\n",
    "df = pd.read_csv(\"global_food_prices.csv\")\n",
    "ref = pd.read_csv(\"UNdata_Export.csv\")"
   ]
  },
  {
   "cell_type": "code",
   "execution_count": 20,
   "metadata": {},
   "outputs": [],
   "source": [
    "countries = sorted(list(set(df['country'])))\n",
    "\n",
    "ref = ref.loc[(ref['Country or territory of asylum or residence'].isin(countries)) |\\\n",
    "          (ref['Country or territory of origin'].isin(countries))]\n",
    "ref = ref[['Country or territory of asylum or residence', 'Country or territory of origin', 'Year', 'Refugees<sup>*</sup>']]\n",
    "ref.columns = ['country_of_asylum', 'country_of_origin', 'year', 'amount_of_refugees']\n"
   ]
  },
  {
   "cell_type": "code",
   "execution_count": 21,
   "metadata": {},
   "outputs": [],
   "source": [
    "ref.to_csv('refugee_data.csv')"
   ]
  },
  {
   "cell_type": "code",
   "execution_count": null,
   "metadata": {},
   "outputs": [],
   "source": []
  }
 ],
 "metadata": {
  "kernelspec": {
   "display_name": "Python 3",
   "language": "python",
   "name": "python3"
  },
  "language_info": {
   "codemirror_mode": {
    "name": "ipython",
    "version": 3
   },
   "file_extension": ".py",
   "mimetype": "text/x-python",
   "name": "python",
   "nbconvert_exporter": "python",
   "pygments_lexer": "ipython3",
   "version": "3.6.3"
  }
 },
 "nbformat": 4,
 "nbformat_minor": 2
}
