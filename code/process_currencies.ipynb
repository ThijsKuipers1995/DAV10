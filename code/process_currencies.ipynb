{
 "cells": [
  {
   "cell_type": "markdown",
   "metadata": {},
   "source": [
    "# Currency Exchange processing \n"
   ]
  },
  {
   "cell_type": "code",
   "execution_count": 141,
   "metadata": {},
   "outputs": [],
   "source": [
    "import pandas as pd\n",
    "import os.path"
   ]
  },
  {
   "cell_type": "code",
   "execution_count": 190,
   "metadata": {},
   "outputs": [],
   "source": [
    "df = pd.read_csv(\"average_product_prices_per_country_per_month.csv\")\n",
    "currencies = list(set(df['currency']))   "
   ]
  },
  {
   "cell_type": "code",
   "execution_count": 191,
   "metadata": {},
   "outputs": [],
   "source": [
    "# Prepare database format\n",
    "def setup(df):\n",
    "    rows = []\n",
    "    for row in df.iterrows():\n",
    "        date = row[1][0].split('/')[:2]\n",
    "        rate = row[1][1]\n",
    "        rows.append([currency, date[0], date[1], rate])\n",
    "    new_df = pd.DataFrame(rows)\n",
    "    new_df.columns = ['currency', 'year', 'month', 'value']\n",
    "    return new_df\n",
    "\n",
    "# Calculate avg conversion rate per month\n",
    "def set_avg_monthly_rates(df, currency):\n",
    "    rows = []\n",
    "    years = sorted(list(set(df['year'])))\n",
    "    for year in years:\n",
    "        df_years = df[df['year']==year]\n",
    "        months = sorted(list(set(df_years['month'])))\n",
    "        for month in months:\n",
    "            df_months = df_years[df_years['month']==month]\n",
    "            rates = list(df_months['value'])\n",
    "            avg_rate = sum(rates) / len(rates)\n",
    "            rows.append([currency, year, month, avg_rate])\n",
    "    new_df = pd.DataFrame(rows)\n",
    "    new_df.columns = ['currency', 'year', 'month', 'value']\n",
    "    return new_df"
   ]
  },
  {
   "cell_type": "code",
   "execution_count": 194,
   "metadata": {},
   "outputs": [],
   "source": [
    "# Convert all given currencies (if data is known) to new database format \n",
    "def get_exchange_rates_to_us_dollar(currencies):\n",
    "    print(\"Starting processing currencies...\")\n",
    "    df_exchange_rates_to_us_dollar = pd.DataFrame(columns = ['currency', 'year', 'month', 'value'])\n",
    "    for currency in currencies:\n",
    "        print(\"Processing currency: {}\".format(currency))\n",
    "        filePath = \"exchangerates/EconomicIndicators_\" + currency + \".csv\"\n",
    "        if os.path.isfile(filePath):\n",
    "            df = pd.read_csv(filePath)[['Time', 'Value (USD/' + currency + ')']]\n",
    "            df = df[pd.notnull(df['Time'])]\n",
    "            new_df = set_avg_monthly_rates(setup(df), currency)\n",
    "            df_exchange_rates_to_us_dollar = df_exchange_rates_to_us_dollar.append(new_df, ignore_index=True)\n",
    "    print(\"Finished processing.\")\n",
    "    return df_exchange_rates_to_us_dollar"
   ]
  },
  {
   "cell_type": "code",
   "execution_count": 195,
   "metadata": {},
   "outputs": [
    {
     "name": "stdout",
     "output_type": "stream",
     "text": [
      "Starting processing currencies...\n",
      "Processing currency: KGS\n",
      "Processing currency: LSL\n",
      "Processing currency: IRR\n",
      "Processing currency: GMD\n",
      "Processing currency: MWK\n",
      "Processing currency: YER\n",
      "Processing currency: AZN\n",
      "Processing currency: SSP\n",
      "Processing currency: JOD\n",
      "Processing currency: LKR\n",
      "Processing currency: BOB\n",
      "Processing currency: TRY\n",
      "Processing currency: IDR\n",
      "Processing currency: LBP\n",
      "Processing currency: ZMW\n",
      "Processing currency: NIS\n",
      "Processing currency: BDT\n",
      "Processing currency: AMD\n",
      "Processing currency: MZN\n",
      "Processing currency: CVE\n",
      "Processing currency: GTQ\n",
      "Processing currency: MRO\n",
      "Processing currency: PEN\n",
      "Processing currency: RWF\n",
      "Processing currency: UGX\n",
      "Processing currency: IQD\n",
      "Processing currency: INR\n",
      "Processing currency: NGN\n",
      "Processing currency: PHP\n",
      "Processing currency: DJF\n",
      "Processing currency: GNF\n",
      "Processing currency: MMK\n",
      "Processing currency: EGP\n",
      "Processing currency: HTG\n",
      "Processing currency: KES\n",
      "Processing currency: TJS\n",
      "Processing currency: AFN\n",
      "Processing currency: TZS\n",
      "Processing currency: MGA\n",
      "Processing currency: XOF\n",
      "Processing currency: ETB\n",
      "Processing currency: LRD\n",
      "Processing currency: DZD\n",
      "Processing currency: Somaliland Shilling\n",
      "Processing currency: LAK\n",
      "Processing currency: GHS\n",
      "Processing currency: USD\n",
      "Processing currency: PKR\n",
      "Processing currency: SZL\n",
      "Processing currency: SYP\n",
      "Processing currency: UAH\n",
      "Processing currency: KHR\n",
      "Processing currency: COP\n",
      "Processing currency: BTN\n",
      "Processing currency: BIF\n",
      "Processing currency: GEL\n",
      "Processing currency: SDG\n",
      "Processing currency: XAF\n",
      "Processing currency: NPR\n",
      "Processing currency: CDF\n",
      "Finished processing.\n",
      "\n",
      " Saving DF to 'exchange_rates_to_us_dollar.csv'\n"
     ]
    }
   ],
   "source": [
    "df_exchange_rates_to_us_dollar = get_exchange_rates_to_us_dollar(currencies)\n",
    "print(\"\\n Saving DF to 'exchange_rates_to_us_dollar.csv'\")\n",
    "df_exchange_rates_to_us_dollar.to_csv(\"exchange_rates_to_us_dollar.csv\")"
   ]
  },
  {
   "cell_type": "code",
   "execution_count": null,
   "metadata": {},
   "outputs": [],
   "source": []
  }
 ],
 "metadata": {
  "kernelspec": {
   "display_name": "Python 3",
   "language": "python",
   "name": "python3"
  },
  "language_info": {
   "codemirror_mode": {
    "name": "ipython",
    "version": 3
   },
   "file_extension": ".py",
   "mimetype": "text/x-python",
   "name": "python",
   "nbconvert_exporter": "python",
   "pygments_lexer": "ipython3",
   "version": "3.6.3"
  }
 },
 "nbformat": 4,
 "nbformat_minor": 2
}
